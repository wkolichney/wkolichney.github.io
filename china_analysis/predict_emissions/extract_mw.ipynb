{
 "cells": [
  {
   "cell_type": "code",
   "execution_count": 1,
   "id": "b1e85446",
   "metadata": {},
   "outputs": [],
   "source": [
    "import pandas as pd \n",
    "import sqlalchemy\n",
    "from sqlalchemy import create_engine\n",
    "import pickle\n",
    "import numpy as np\n",
    "pd.set_option('display.float_format', lambda x: '%.3f' % x)"
   ]
  },
  {
   "cell_type": "code",
   "execution_count": 2,
   "id": "a6ae14d7",
   "metadata": {},
   "outputs": [],
   "source": [
    "DB_CONFIG = {\n",
    "        'host': 'localhost',\n",
    "        'user': 'root',\n",
    "        'password': 'root',\n",
    "        'database': 'aiddata_personal',\n",
    "        'port': 3306\n",
    "    }\n",
    "\n",
    "# Create the connection string\n",
    "connection_string = f\"mysql+pymysql://{DB_CONFIG['user']}:{DB_CONFIG['password']}@{DB_CONFIG['host']}:{DB_CONFIG['port']}/{DB_CONFIG['database']}\"\n",
    "\n",
    "# Create the SQLAlchemy engine\n",
    "engine = create_engine(connection_string)"
   ]
  },
  {
   "cell_type": "code",
   "execution_count": 3,
   "id": "81799620",
   "metadata": {},
   "outputs": [],
   "source": [
    "df = pd.read_sql_query(\"\"\"\n",
    "SELECT p.aid_data_record_id, p.aid_data_parent_id, p.title, p.completion_year, c.name, p.description\n",
    "FROM sectors as s \n",
    "JOIN projects as p ON p.sector_id = s.id\n",
    "JOIN countries as c ON p.recipient_country_id = c.id\n",
    "JOIN flow_types as f ON p.flow_type_id = f.id\n",
    "JOIN status_types as st ON p.status_id = st.id\n",
    "WHERE s.name = 'ENERGY'\n",
    "AND p.recommended_for_aggregates = 1\n",
    "AND f.simplified != 'Debt Rescheduling'\n",
    "AND st.status != 'Cancelled'\n",
    "AND p.completion_year IS NOT NULL\n",
    "AND p.description LIKE %(pattern)s\n",
    "\"\"\", con=engine, params={'pattern': '%MW%'})"
   ]
  },
  {
   "cell_type": "code",
   "execution_count": 4,
   "id": "b6d510a3",
   "metadata": {},
   "outputs": [],
   "source": [
    "int = ['aid_data_record_id','aid_data_parent_id']\n",
    "df[int] = df[int].astype('Int64')"
   ]
  },
  {
   "cell_type": "code",
   "execution_count": 5,
   "id": "1febd9c5",
   "metadata": {},
   "outputs": [
    {
     "name": "stdout",
     "output_type": "stream",
     "text": [
      "Number of records under the column 'description' that have MW: 368\n"
     ]
    }
   ],
   "source": [
    "#make a new column for mw, slice out the number before MW\n",
    "df['mw'] = None\n",
    "df['mw'] = df['description'].str.extract(r'(\\d+\\.?\\d*)\\s*MW', expand=False)\n",
    "df['mw'] = pd.to_numeric(df['mw'], errors='coerce')\n",
    "count_title_mw = df['mw'].notnull().sum()\n",
    "print(f\"Number of records under the column 'description' that have MW: {count_title_mw}\")"
   ]
  },
  {
   "cell_type": "code",
   "execution_count": 6,
   "id": "3d0d0184",
   "metadata": {},
   "outputs": [
    {
     "name": "stdout",
     "output_type": "stream",
     "text": [
      "Number of records under the column 'title' that have MW: 283\n"
     ]
    }
   ],
   "source": [
    "# how many recrods under the column tile have mw\n",
    "# Extract MW from the 'title' column and count non-null values\n",
    "df['title_mw'] = df['title'].str.extract(r'(\\d+\\.?\\d*)\\s*MW', expand=False)\n",
    "df['title_mw'] = pd.to_numeric(df['title_mw'], errors='coerce')\n",
    "count_title_mw = df['title_mw'].notnull().sum()\n",
    "print(f\"Number of records under the column 'title' that have MW: {count_title_mw}\")\n"
   ]
  },
  {
   "cell_type": "code",
   "execution_count": 7,
   "id": "aac09f22",
   "metadata": {},
   "outputs": [
    {
     "name": "stdout",
     "output_type": "stream",
     "text": [
      "     aid_data_record_id                                              title  \\\n",
      "12                 1049  CMEC provides $551.5 million supplier's credit...   \n",
      "15                 2251  CNEEC provides $3 million supplier credit for ...   \n",
      "22                30244  CET provides $1.002 billion supplier's credit ...   \n",
      "26                31023  China Eximbank provides RMB 592.4 million gove...   \n",
      "33                33244  China Eximbank provides $300 million preferent...   \n",
      "..                  ...                                                ...   \n",
      "356               96053  CDB and China Eximbank provide loan for 552 (4...   \n",
      "357               96055  Bank of China contributes to $765 million synd...   \n",
      "359               96465  Bank of China contributes to $81 million syndi...   \n",
      "360               97774  CDB provides loan for Malabo Turbogas Plant Ex...   \n",
      "368               98835  ICBC contributes $42.77 million to syndicated ...   \n",
      "\n",
      "                                           description  \n",
      "12   On December 19, 2005, CMEC and the Government ...  \n",
      "15   In 2004, China National Electric Engineering C...  \n",
      "22   On April 26, 2013, China Electric Power Equipm...  \n",
      "26   On November 16, 2009, the Chinese Government a...  \n",
      "33   On August 30, 2005, China Eximbank signed a $3...  \n",
      "..                                                 ...  \n",
      "356  On September 1, 2015, GN Power Kausawagan, Ltd...  \n",
      "357  On September 1, 2015, GN Power Kausawagan, Ltd...  \n",
      "359  In August 2021, Lien Lap Wind Power Joint Stoc...  \n",
      "360  On January 22, 2019, the Hubei Branch of China...  \n",
      "368  On May 19, 2017, Pacific Hydro Chile -- the La...  \n",
      "\n",
      "[86 rows x 3 columns]\n"
     ]
    }
   ],
   "source": [
    "# show me the row that has null for title_mw\n",
    "df_null_title_mw = df[df['title_mw'].isnull() & df['mw'].notnull()]\n",
    "print(df_null_title_mw[['aid_data_record_id', 'title', 'description']])"
   ]
  },
  {
   "cell_type": "code",
   "execution_count": 8,
   "id": "0bd8a10d",
   "metadata": {},
   "outputs": [],
   "source": [
    "# prefer the title_mw over mw, unless title_mw is null\n",
    "df.loc[df['title_mw'].notnull(), 'mw'] = df['title_mw']\n"
   ]
  },
  {
   "cell_type": "code",
   "execution_count": 9,
   "id": "362675c0",
   "metadata": {},
   "outputs": [],
   "source": [
    "df.drop(columns=['title_mw'],inplace=True)"
   ]
  },
  {
   "cell_type": "code",
   "execution_count": 10,
   "id": "82032878",
   "metadata": {},
   "outputs": [],
   "source": [
    "with open(\"C:/Users/wikku/aiddata/personal_research/emission_models.pkl\", \"rb\") as f:\n",
    "    loaded_models = pickle.load(f)"
   ]
  },
  {
   "cell_type": "code",
   "execution_count": 11,
   "id": "b41486fd",
   "metadata": {},
   "outputs": [
    {
     "data": {
      "text/plain": [
       "{'co2': RandomForestRegressor(random_state=42),\n",
       " 'so2': RandomForestRegressor(random_state=42),\n",
       " 'nox': RandomForestRegressor(random_state=42)}"
      ]
     },
     "execution_count": 11,
     "metadata": {},
     "output_type": "execute_result"
    }
   ],
   "source": [
    "loaded_models"
   ]
  },
  {
   "cell_type": "code",
   "execution_count": 18,
   "id": "510b5e9c",
   "metadata": {},
   "outputs": [
    {
     "name": "stderr",
     "output_type": "stream",
     "text": [
      "C:\\Users\\wikku\\AppData\\Local\\Temp\\ipykernel_48552\\1223255828.py:3: FutureWarning: ChainedAssignmentError: behaviour will change in pandas 3.0!\n",
      "You are setting values through chained assignment. Currently this works in certain cases, but when using Copy-on-Write (which will become the default behaviour in pandas 3.0) this will never work to update the original DataFrame or Series, because the intermediate object on which we are setting values will behave as a copy.\n",
      "A typical example is when you are setting values in a column of a DataFrame, like:\n",
      "\n",
      "df[\"col\"][row_indexer] = value\n",
      "\n",
      "Use `df.loc[row_indexer, \"col\"] = values` instead, to perform the assignment in a single step and ensure this keeps updating the original `df`.\n",
      "\n",
      "See the caveats in the documentation: https://pandas.pydata.org/pandas-docs/stable/user_guide/indexing.html#returning-a-view-versus-a-copy\n",
      "\n",
      "  tajikistan_df['mw'].iloc[0] = 150\n",
      "C:\\Users\\wikku\\AppData\\Local\\Temp\\ipykernel_48552\\1223255828.py:3: SettingWithCopyWarning: \n",
      "A value is trying to be set on a copy of a slice from a DataFrame\n",
      "\n",
      "See the caveats in the documentation: https://pandas.pydata.org/pandas-docs/stable/user_guide/indexing.html#returning-a-view-versus-a-copy\n",
      "  tajikistan_df['mw'].iloc[0] = 150\n",
      "C:\\Users\\wikku\\AppData\\Local\\Temp\\ipykernel_48552\\1223255828.py:4: FutureWarning: ChainedAssignmentError: behaviour will change in pandas 3.0!\n",
      "You are setting values through chained assignment. Currently this works in certain cases, but when using Copy-on-Write (which will become the default behaviour in pandas 3.0) this will never work to update the original DataFrame or Series, because the intermediate object on which we are setting values will behave as a copy.\n",
      "A typical example is when you are setting values in a column of a DataFrame, like:\n",
      "\n",
      "df[\"col\"][row_indexer] = value\n",
      "\n",
      "Use `df.loc[row_indexer, \"col\"] = values` instead, to perform the assignment in a single step and ensure this keeps updating the original `df`.\n",
      "\n",
      "See the caveats in the documentation: https://pandas.pydata.org/pandas-docs/stable/user_guide/indexing.html#returning-a-view-versus-a-copy\n",
      "\n",
      "  tajikistan_df['mw'].iloc[1] = 50\n",
      "C:\\Users\\wikku\\AppData\\Local\\Temp\\ipykernel_48552\\1223255828.py:4: SettingWithCopyWarning: \n",
      "A value is trying to be set on a copy of a slice from a DataFrame\n",
      "\n",
      "See the caveats in the documentation: https://pandas.pydata.org/pandas-docs/stable/user_guide/indexing.html#returning-a-view-versus-a-copy\n",
      "  tajikistan_df['mw'].iloc[1] = 50\n",
      "C:\\Users\\wikku\\AppData\\Local\\Temp\\ipykernel_48552\\1223255828.py:5: FutureWarning: ChainedAssignmentError: behaviour will change in pandas 3.0!\n",
      "You are setting values through chained assignment. Currently this works in certain cases, but when using Copy-on-Write (which will become the default behaviour in pandas 3.0) this will never work to update the original DataFrame or Series, because the intermediate object on which we are setting values will behave as a copy.\n",
      "A typical example is when you are setting values in a column of a DataFrame, like:\n",
      "\n",
      "df[\"col\"][row_indexer] = value\n",
      "\n",
      "Use `df.loc[row_indexer, \"col\"] = values` instead, to perform the assignment in a single step and ensure this keeps updating the original `df`.\n",
      "\n",
      "See the caveats in the documentation: https://pandas.pydata.org/pandas-docs/stable/user_guide/indexing.html#returning-a-view-versus-a-copy\n",
      "\n",
      "  tajikistan_df['mw'].iloc[2] = 50\n",
      "C:\\Users\\wikku\\AppData\\Local\\Temp\\ipykernel_48552\\1223255828.py:5: SettingWithCopyWarning: \n",
      "A value is trying to be set on a copy of a slice from a DataFrame\n",
      "\n",
      "See the caveats in the documentation: https://pandas.pydata.org/pandas-docs/stable/user_guide/indexing.html#returning-a-view-versus-a-copy\n",
      "  tajikistan_df['mw'].iloc[2] = 50\n",
      "C:\\Users\\wikku\\AppData\\Local\\Temp\\ipykernel_48552\\1223255828.py:6: FutureWarning: ChainedAssignmentError: behaviour will change in pandas 3.0!\n",
      "You are setting values through chained assignment. Currently this works in certain cases, but when using Copy-on-Write (which will become the default behaviour in pandas 3.0) this will never work to update the original DataFrame or Series, because the intermediate object on which we are setting values will behave as a copy.\n",
      "A typical example is when you are setting values in a column of a DataFrame, like:\n",
      "\n",
      "df[\"col\"][row_indexer] = value\n",
      "\n",
      "Use `df.loc[row_indexer, \"col\"] = values` instead, to perform the assignment in a single step and ensure this keeps updating the original `df`.\n",
      "\n",
      "See the caveats in the documentation: https://pandas.pydata.org/pandas-docs/stable/user_guide/indexing.html#returning-a-view-versus-a-copy\n",
      "\n",
      "  tajikistan_df['mw'].iloc[3] = 150\n",
      "C:\\Users\\wikku\\AppData\\Local\\Temp\\ipykernel_48552\\1223255828.py:6: SettingWithCopyWarning: \n",
      "A value is trying to be set on a copy of a slice from a DataFrame\n",
      "\n",
      "See the caveats in the documentation: https://pandas.pydata.org/pandas-docs/stable/user_guide/indexing.html#returning-a-view-versus-a-copy\n",
      "  tajikistan_df['mw'].iloc[3] = 150\n",
      "C:\\Users\\wikku\\AppData\\Local\\Temp\\ipykernel_48552\\1223255828.py:7: SettingWithCopyWarning: \n",
      "A value is trying to be set on a copy of a slice from a DataFrame\n",
      "\n",
      "See the caveats in the documentation: https://pandas.pydata.org/pandas-docs/stable/user_guide/indexing.html#returning-a-view-versus-a-copy\n",
      "  tajikistan_df.rename(columns={'completion_year': 'year'}, inplace=True)\n",
      "C:\\Users\\wikku\\AppData\\Local\\Temp\\ipykernel_48552\\1223255828.py:8: SettingWithCopyWarning: \n",
      "A value is trying to be set on a copy of a slice from a DataFrame.\n",
      "Try using .loc[row_indexer,col_indexer] = value instead\n",
      "\n",
      "See the caveats in the documentation: https://pandas.pydata.org/pandas-docs/stable/user_guide/indexing.html#returning-a-view-versus-a-copy\n",
      "  tajikistan_df['generation_mwh'] = tajikistan_df['mw'] * (8760  * percentage_running) #convert MW to MWh, assuming running every hour of the year\n",
      "C:\\Users\\wikku\\AppData\\Local\\Temp\\ipykernel_48552\\1223255828.py:9: SettingWithCopyWarning: \n",
      "A value is trying to be set on a copy of a slice from a DataFrame.\n",
      "Try using .loc[row_indexer,col_indexer] = value instead\n",
      "\n",
      "See the caveats in the documentation: https://pandas.pydata.org/pandas-docs/stable/user_guide/indexing.html#returning-a-view-versus-a-copy\n",
      "  tajikistan_df['fuel_group'] = 'coal'\n",
      "C:\\Users\\wikku\\AppData\\Local\\Temp\\ipykernel_48552\\1223255828.py:10: SettingWithCopyWarning: \n",
      "A value is trying to be set on a copy of a slice from a DataFrame.\n",
      "Try using .loc[row_indexer,col_indexer] = value instead\n",
      "\n",
      "See the caveats in the documentation: https://pandas.pydata.org/pandas-docs/stable/user_guide/indexing.html#returning-a-view-versus-a-copy\n",
      "  tajikistan_df['fuel_group_gas'] = 0\n",
      "C:\\Users\\wikku\\AppData\\Local\\Temp\\ipykernel_48552\\1223255828.py:11: SettingWithCopyWarning: \n",
      "A value is trying to be set on a copy of a slice from a DataFrame.\n",
      "Try using .loc[row_indexer,col_indexer] = value instead\n",
      "\n",
      "See the caveats in the documentation: https://pandas.pydata.org/pandas-docs/stable/user_guide/indexing.html#returning-a-view-versus-a-copy\n",
      "  tajikistan_df['fuel_group_oil'] = 0\n",
      "C:\\Users\\wikku\\AppData\\Local\\Temp\\ipykernel_48552\\1223255828.py:14: SettingWithCopyWarning: \n",
      "A value is trying to be set on a copy of a slice from a DataFrame.\n",
      "Try using .loc[row_indexer,col_indexer] = value instead\n",
      "\n",
      "See the caveats in the documentation: https://pandas.pydata.org/pandas-docs/stable/user_guide/indexing.html#returning-a-view-versus-a-copy\n",
      "  tajikistan_df['Predicted_co2'] = loaded_models['co2'].predict(X_new)\n",
      "C:\\Users\\wikku\\AppData\\Local\\Temp\\ipykernel_48552\\1223255828.py:15: SettingWithCopyWarning: \n",
      "A value is trying to be set on a copy of a slice from a DataFrame.\n",
      "Try using .loc[row_indexer,col_indexer] = value instead\n",
      "\n",
      "See the caveats in the documentation: https://pandas.pydata.org/pandas-docs/stable/user_guide/indexing.html#returning-a-view-versus-a-copy\n",
      "  tajikistan_df['Predicted_so2'] = loaded_models['so2'].predict(X_new)\n",
      "C:\\Users\\wikku\\AppData\\Local\\Temp\\ipykernel_48552\\1223255828.py:16: SettingWithCopyWarning: \n",
      "A value is trying to be set on a copy of a slice from a DataFrame.\n",
      "Try using .loc[row_indexer,col_indexer] = value instead\n",
      "\n",
      "See the caveats in the documentation: https://pandas.pydata.org/pandas-docs/stable/user_guide/indexing.html#returning-a-view-versus-a-copy\n",
      "  tajikistan_df['Predicted_nox'] = loaded_models['nox'].predict(X_new)\n",
      "C:\\Users\\wikku\\AppData\\Local\\Temp\\ipykernel_48552\\1223255828.py:17: SettingWithCopyWarning: \n",
      "A value is trying to be set on a copy of a slice from a DataFrame\n",
      "\n",
      "See the caveats in the documentation: https://pandas.pydata.org/pandas-docs/stable/user_guide/indexing.html#returning-a-view-versus-a-copy\n",
      "  tajikistan_df.drop(columns=['fuel_group_gas', 'fuel_group_oil', 'fuel_group'], inplace=True)  # Clean up the DataFrame\n",
      "C:\\Users\\wikku\\AppData\\Local\\Temp\\ipykernel_48552\\1223255828.py:18: SettingWithCopyWarning: \n",
      "A value is trying to be set on a copy of a slice from a DataFrame.\n",
      "Try using .loc[row_indexer,col_indexer] = value instead\n",
      "\n",
      "See the caveats in the documentation: https://pandas.pydata.org/pandas-docs/stable/user_guide/indexing.html#returning-a-view-versus-a-copy\n",
      "  tajikistan_df['pred_co2_emissions'] = np.exp(tajikistan_df['Predicted_co2'])\n",
      "C:\\Users\\wikku\\AppData\\Local\\Temp\\ipykernel_48552\\1223255828.py:19: SettingWithCopyWarning: \n",
      "A value is trying to be set on a copy of a slice from a DataFrame.\n",
      "Try using .loc[row_indexer,col_indexer] = value instead\n",
      "\n",
      "See the caveats in the documentation: https://pandas.pydata.org/pandas-docs/stable/user_guide/indexing.html#returning-a-view-versus-a-copy\n",
      "  tajikistan_df['pred_so2_emissions'] = np.exp(tajikistan_df['Predicted_so2'])\n",
      "C:\\Users\\wikku\\AppData\\Local\\Temp\\ipykernel_48552\\1223255828.py:20: SettingWithCopyWarning: \n",
      "A value is trying to be set on a copy of a slice from a DataFrame.\n",
      "Try using .loc[row_indexer,col_indexer] = value instead\n",
      "\n",
      "See the caveats in the documentation: https://pandas.pydata.org/pandas-docs/stable/user_guide/indexing.html#returning-a-view-versus-a-copy\n",
      "  tajikistan_df['pred_nox_emissions'] = np.exp(tajikistan_df['Predicted_nox'])\n"
     ]
    }
   ],
   "source": [
    "percentage_running= 0.8 #depends on percentage of time the plant is running, this will be multiplied by the number of hours in a year, 8760\n",
    "tajikistan_df = df[df['name'] == 'Tajikistan']\n",
    "tajikistan_df['mw'].iloc[0] = 150\n",
    "tajikistan_df['mw'].iloc[1] = 50\n",
    "tajikistan_df['mw'].iloc[2] = 50\n",
    "tajikistan_df['mw'].iloc[3] = 150\n",
    "tajikistan_df.rename(columns={'completion_year': 'year'}, inplace=True)\n",
    "tajikistan_df['generation_mwh'] = tajikistan_df['mw'] * (8760  * percentage_running) #convert MW to MWh, assuming running every hour of the year\n",
    "tajikistan_df['fuel_group'] = 'coal'\n",
    "tajikistan_df['fuel_group_gas'] = 0\n",
    "tajikistan_df['fuel_group_oil'] = 0\n",
    "\n",
    "X_new = tajikistan_df[['generation_mwh', 'year', 'fuel_group_gas', 'fuel_group_oil']]\n",
    "tajikistan_df['Predicted_co2'] = loaded_models['co2'].predict(X_new)\n",
    "tajikistan_df['Predicted_so2'] = loaded_models['so2'].predict(X_new)\n",
    "tajikistan_df['Predicted_nox'] = loaded_models['nox'].predict(X_new)\n",
    "tajikistan_df.drop(columns=['fuel_group_gas', 'fuel_group_oil', 'fuel_group'], inplace=True)  # Clean up the DataFrame\n",
    "tajikistan_df['pred_co2_emissions'] = np.exp(tajikistan_df['Predicted_co2'])\n",
    "tajikistan_df['pred_so2_emissions'] = np.exp(tajikistan_df['Predicted_so2'])\n",
    "tajikistan_df['pred_nox_emissions'] = np.exp(tajikistan_df['Predicted_nox'])\n"
   ]
  },
  {
   "cell_type": "code",
   "execution_count": 19,
   "id": "6a47d6de",
   "metadata": {},
   "outputs": [
    {
     "data": {
      "text/html": [
       "<div>\n",
       "<style scoped>\n",
       "    .dataframe tbody tr th:only-of-type {\n",
       "        vertical-align: middle;\n",
       "    }\n",
       "\n",
       "    .dataframe tbody tr th {\n",
       "        vertical-align: top;\n",
       "    }\n",
       "\n",
       "    .dataframe thead th {\n",
       "        text-align: right;\n",
       "    }\n",
       "</style>\n",
       "<table border=\"1\" class=\"dataframe\">\n",
       "  <thead>\n",
       "    <tr style=\"text-align: right;\">\n",
       "      <th></th>\n",
       "      <th>aid_data_record_id</th>\n",
       "      <th>aid_data_parent_id</th>\n",
       "      <th>title</th>\n",
       "      <th>year</th>\n",
       "      <th>name</th>\n",
       "      <th>description</th>\n",
       "      <th>mw</th>\n",
       "      <th>generation_mwh</th>\n",
       "      <th>Predicted_co2</th>\n",
       "      <th>Predicted_so2</th>\n",
       "      <th>Predicted_nox</th>\n",
       "      <th>pred_co2_emissions</th>\n",
       "      <th>pred_so2_emissions</th>\n",
       "      <th>pred_nox_emissions</th>\n",
       "    </tr>\n",
       "  </thead>\n",
       "  <tbody>\n",
       "    <tr>\n",
       "      <th>99</th>\n",
       "      <td>46211</td>\n",
       "      <td>1868</td>\n",
       "      <td>China Eximbank provides RMB 929.9 million gove...</td>\n",
       "      <td>2016</td>\n",
       "      <td>Tajikistan</td>\n",
       "      <td>On July 4, 2009, the Export-Import Bank of Chi...</td>\n",
       "      <td>150.000</td>\n",
       "      <td>1051200.000</td>\n",
       "      <td>14.366</td>\n",
       "      <td>8.544</td>\n",
       "      <td>7.434</td>\n",
       "      <td>1734802.648</td>\n",
       "      <td>5136.348</td>\n",
       "      <td>1693.264</td>\n",
       "    </tr>\n",
       "    <tr>\n",
       "      <th>133</th>\n",
       "      <td>54106</td>\n",
       "      <td>1868</td>\n",
       "      <td>China Eximbank provides $15 million loan for P...</td>\n",
       "      <td>2014</td>\n",
       "      <td>Tajikistan</td>\n",
       "      <td>On July 4, 2009, the Export-Import Bank of Chi...</td>\n",
       "      <td>50.000</td>\n",
       "      <td>350400.000</td>\n",
       "      <td>14.164</td>\n",
       "      <td>7.382</td>\n",
       "      <td>8.197</td>\n",
       "      <td>1416241.523</td>\n",
       "      <td>1607.220</td>\n",
       "      <td>3629.921</td>\n",
       "    </tr>\n",
       "    <tr>\n",
       "      <th>274</th>\n",
       "      <td>71101</td>\n",
       "      <td>1868</td>\n",
       "      <td>China Development Bank provides $15 million lo...</td>\n",
       "      <td>2014</td>\n",
       "      <td>Tajikistan</td>\n",
       "      <td>On July 4, 2009, the Export-Import Bank of Chi...</td>\n",
       "      <td>50.000</td>\n",
       "      <td>350400.000</td>\n",
       "      <td>14.164</td>\n",
       "      <td>7.382</td>\n",
       "      <td>8.197</td>\n",
       "      <td>1416241.523</td>\n",
       "      <td>1607.220</td>\n",
       "      <td>3629.921</td>\n",
       "    </tr>\n",
       "    <tr>\n",
       "      <th>275</th>\n",
       "      <td>71137</td>\n",
       "      <td>1868</td>\n",
       "      <td>China Eximbank provides $178.9 million prefere...</td>\n",
       "      <td>2016</td>\n",
       "      <td>Tajikistan</td>\n",
       "      <td>On July 4, 2009, the Export-Import Bank of Chi...</td>\n",
       "      <td>150.000</td>\n",
       "      <td>1051200.000</td>\n",
       "      <td>14.366</td>\n",
       "      <td>8.544</td>\n",
       "      <td>7.434</td>\n",
       "      <td>1734802.648</td>\n",
       "      <td>5136.348</td>\n",
       "      <td>1693.264</td>\n",
       "    </tr>\n",
       "  </tbody>\n",
       "</table>\n",
       "</div>"
      ],
      "text/plain": [
       "     aid_data_record_id  aid_data_parent_id  \\\n",
       "99                46211                1868   \n",
       "133               54106                1868   \n",
       "274               71101                1868   \n",
       "275               71137                1868   \n",
       "\n",
       "                                                 title  year        name  \\\n",
       "99   China Eximbank provides RMB 929.9 million gove...  2016  Tajikistan   \n",
       "133  China Eximbank provides $15 million loan for P...  2014  Tajikistan   \n",
       "274  China Development Bank provides $15 million lo...  2014  Tajikistan   \n",
       "275  China Eximbank provides $178.9 million prefere...  2016  Tajikistan   \n",
       "\n",
       "                                           description      mw  \\\n",
       "99   On July 4, 2009, the Export-Import Bank of Chi... 150.000   \n",
       "133  On July 4, 2009, the Export-Import Bank of Chi...  50.000   \n",
       "274  On July 4, 2009, the Export-Import Bank of Chi...  50.000   \n",
       "275  On July 4, 2009, the Export-Import Bank of Chi... 150.000   \n",
       "\n",
       "     generation_mwh  Predicted_co2  Predicted_so2  Predicted_nox  \\\n",
       "99      1051200.000         14.366          8.544          7.434   \n",
       "133      350400.000         14.164          7.382          8.197   \n",
       "274      350400.000         14.164          7.382          8.197   \n",
       "275     1051200.000         14.366          8.544          7.434   \n",
       "\n",
       "     pred_co2_emissions  pred_so2_emissions  pred_nox_emissions  \n",
       "99          1734802.648            5136.348            1693.264  \n",
       "133         1416241.523            1607.220            3629.921  \n",
       "274         1416241.523            1607.220            3629.921  \n",
       "275         1734802.648            5136.348            1693.264  "
      ]
     },
     "execution_count": 19,
     "metadata": {},
     "output_type": "execute_result"
    }
   ],
   "source": [
    "tajikistan_df"
   ]
  },
  {
   "cell_type": "code",
   "execution_count": 20,
   "id": "ef345007",
   "metadata": {},
   "outputs": [
    {
     "data": {
      "text/plain": [
       "6302088.343475139"
      ]
     },
     "execution_count": 20,
     "metadata": {},
     "output_type": "execute_result"
    }
   ],
   "source": [
    "tajikistan_df['pred_co2_emissions'].sum()"
   ]
  },
  {
   "cell_type": "code",
   "execution_count": null,
   "id": "09130e29",
   "metadata": {},
   "outputs": [],
   "source": []
  }
 ],
 "metadata": {
  "kernelspec": {
   "display_name": "base",
   "language": "python",
   "name": "python3"
  },
  "language_info": {
   "codemirror_mode": {
    "name": "ipython",
    "version": 3
   },
   "file_extension": ".py",
   "mimetype": "text/x-python",
   "name": "python",
   "nbconvert_exporter": "python",
   "pygments_lexer": "ipython3",
   "version": "3.12.7"
  }
 },
 "nbformat": 4,
 "nbformat_minor": 5
}
