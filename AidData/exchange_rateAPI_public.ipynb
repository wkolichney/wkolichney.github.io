{
 "cells": [
  {
   "cell_type": "markdown",
   "id": "69c5bcaa-bde0-4021-8d88-98879f823960",
   "metadata": {},
   "source": [
    "# Historical Exchange Rate Simple Input\n",
    "\n",
    "Make an API code from https://openexchangerates.org/\n",
    "\n",
    "Input API key in the next cell"
   ]
  },
  {
   "cell_type": "code",
   "execution_count": 5,
   "id": "2c8d8cea-17fe-442f-9ff2-ee4ba2a6bb5f",
   "metadata": {},
   "outputs": [],
   "source": [
    "import requests"
   ]
  },
  {
   "cell_type": "code",
   "execution_count": 1,
   "id": "575fd89e-7d8d-4f12-9341-6a565bbd3c72",
   "metadata": {},
   "outputs": [],
   "source": [
    "api_key3 = 'your_api'"
   ]
  },
  {
   "cell_type": "code",
   "execution_count": 7,
   "id": "ef88e103-35ad-49cb-8db5-11639dd59318",
   "metadata": {},
   "outputs": [
    {
     "name": "stdout",
     "output_type": "stream",
     "text": [
      "{'Date': '2022-12-31', 'Observed Amount': 585408000000.0, 'Currency': 'IDR', 'Exchange Rate to USD': 15538.5, 'Equivalent in USD': 37674679.02307173}\n"
     ]
    }
   ],
   "source": [
    "def convert_to_usd(amount, currency, date, api_key):\n",
    "    \"\"\"\n",
    "    Converts an observed currency amount to USD using exchange rates from Open Exchange Rates API.\n",
    "\n",
    "    Parameters:\n",
    "    - amount (str or float): The observed amount in local currency (may include commas).\n",
    "    - currency (str): The currency code (e.g., \"IDR\").\n",
    "    - date (str): The date in format 'YYYY/MM/DD'.\n",
    "    - api_key (str): Your API key for Open Exchange Rates.\n",
    "\n",
    "    Returns:\n",
    "    - Dictionary with exchange rate and USD equivalent.\n",
    "    \"\"\"\n",
    "\n",
    "    try:\n",
    "        # Step 1: Remove commas and convert amount to float\n",
    "        amount = float(str(amount).replace(\",\", \"\"))  # Handles both string and numeric inputs\n",
    "\n",
    "        # Step 2: Format the date for the API (YYYY-MM-DD)\n",
    "        formatted_date = date.replace(\"/\", \"-\")  # Converts '2020/06/30' → '2020-06-30'\n",
    "\n",
    "        # Step 3: Construct API request URL\n",
    "        url = f\"https://openexchangerates.org/api/historical/{formatted_date}.json?app_id={api_key}\"\n",
    "\n",
    "        # Step 4: Fetch exchange rate data\n",
    "        response = requests.get(url)\n",
    "        data = response.json()\n",
    "\n",
    "        if response.status_code != 200 or 'rates' not in data:\n",
    "            return {\"Error\": f\"Failed to fetch exchange rate. Response: {data}\"}\n",
    "\n",
    "        # Step 5: Get exchange rate for the specified currency\n",
    "        exchange_rate = data['rates'].get(currency)\n",
    "\n",
    "        if exchange_rate is None:\n",
    "            return {\"Error\": f\"Exchange rate for {currency} not found on {formatted_date}\"}\n",
    "\n",
    "        # Step 6: Convert amount to USD\n",
    "        usd_equivalent = amount / exchange_rate  # Convert to USD\n",
    "\n",
    "        # Step 7: Return results\n",
    "        return {\n",
    "            \"Date\": formatted_date,\n",
    "            \"Observed Amount\": amount,\n",
    "            \"Currency\": currency,\n",
    "            \"Exchange Rate to USD\": exchange_rate,\n",
    "            \"Equivalent in USD\": usd_equivalent\n",
    "        }\n",
    "\n",
    "    except ValueError:\n",
    "        return {\"Error\": \"Invalid amount format. Please provide a valid numeric value.\"}\n",
    "    except Exception as e:\n",
    "        return {\"Error\": f\"API request failed: {str(e)}\"}\n",
    "\n",
    "# Example usage\n",
    "api_key = api_key3  # Replace with your actual API key\n",
    "result = convert_to_usd(\"585,408,000,000\", \"IDR\", \"2022/12/31\", api_key)\n",
    "print(result)"
   ]
  },
  {
   "cell_type": "code",
   "execution_count": null,
   "id": "6ffb8d4e-9890-4689-b12c-cac7d0d744b8",
   "metadata": {},
   "outputs": [],
   "source": []
  }
 ],
 "metadata": {
  "kernelspec": {
   "display_name": "Python 3 (ipykernel)",
   "language": "python",
   "name": "python3"
  },
  "language_info": {
   "codemirror_mode": {
    "name": "ipython",
    "version": 3
   },
   "file_extension": ".py",
   "mimetype": "text/x-python",
   "name": "python",
   "nbconvert_exporter": "python",
   "pygments_lexer": "ipython3",
   "version": "3.12.7"
  }
 },
 "nbformat": 4,
 "nbformat_minor": 5
}
